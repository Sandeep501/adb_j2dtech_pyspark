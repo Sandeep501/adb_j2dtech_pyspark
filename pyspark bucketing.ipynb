{
 "cells": [
  {
   "cell_type": "code",
   "execution_count": 0,
   "metadata": {
    "application/vnd.databricks.v1+cell": {
     "cellMetadata": {
      "byteLimit": 2048000,
      "rowLimit": 10000
     },
     "inputWidgets": {},
     "nuid": "1fa8abeb-ef33-4a8a-8ecf-83da14cfcdb3",
     "showTitle": false,
     "tableResultSettingsMap": {},
     "title": ""
    }
   },
   "outputs": [],
   "source": [
    "spark.conf.set(\"spark.sql.adaptive.enabled\", \"false\")\n",
    "spark.conf.set(\"spark.sql.autoBroadcastJoinThreshold\", -1)"
   ]
  },
  {
   "cell_type": "code",
   "execution_count": 0,
   "metadata": {
    "application/vnd.databricks.v1+cell": {
     "cellMetadata": {
      "byteLimit": 2048000,
      "rowLimit": 10000
     },
     "inputWidgets": {},
     "nuid": "34429ce4-b487-42f2-a6cb-8cfc2dc25629",
     "showTitle": false,
     "tableResultSettingsMap": {},
     "title": ""
    }
   },
   "outputs": [],
   "source": [
    "from pyspark.sql import functions as F, types as T"
   ]
  },
  {
   "cell_type": "code",
   "execution_count": 0,
   "metadata": {
    "application/vnd.databricks.v1+cell": {
     "cellMetadata": {
      "byteLimit": 2048000,
      "rowLimit": 10000
     },
     "inputWidgets": {},
     "nuid": "130af139-d6d6-43c2-9372-5fa4bdb05308",
     "showTitle": false,
     "tableResultSettingsMap": {},
     "title": ""
    }
   },
   "outputs": [],
   "source": [
    "df1 = (\n",
    "    spark\n",
    "    .range(1, 100000, 1, 10)\n",
    "    .select(\n",
    "        F.col(\"id\").cast(T.IntegerType()),\n",
    "        F.sha2(F.col(\"id\").cast(T.StringType()), 256).alias(\"hash\"),\n",
    "        (F.rand(seed=123) * 90).alias(\"sale\"),\n",
    "        (F.col(\"id\") * F.rand(seed=123)).alias(\"exposure\"),\n",
    "    )\n",
    ")\n",
    "df1.display()"
   ]
  },
  {
   "cell_type": "code",
   "execution_count": 0,
   "metadata": {
    "application/vnd.databricks.v1+cell": {
     "cellMetadata": {
      "byteLimit": 2048000,
      "rowLimit": 10000
     },
     "inputWidgets": {},
     "nuid": "f016cfad-c402-40c1-b078-4d38ba75d280",
     "showTitle": false,
     "tableResultSettingsMap": {},
     "title": ""
    }
   },
   "outputs": [],
   "source": [
    "df1.rdd.getNumPartitions()"
   ]
  },
  {
   "cell_type": "code",
   "execution_count": 0,
   "metadata": {
    "application/vnd.databricks.v1+cell": {
     "cellMetadata": {
      "byteLimit": 2048000,
      "rowLimit": 10000
     },
     "inputWidgets": {},
     "nuid": "295cb854-beb4-4110-80ec-936abace8f8b",
     "showTitle": false,
     "tableResultSettingsMap": {},
     "title": ""
    }
   },
   "outputs": [],
   "source": [
    "df2 = (\n",
    "    spark\n",
    "    .range(1, 100000, 2, 10)\n",
    "    .select(\n",
    "        F.col(\"id\").cast(T.IntegerType()),\n",
    "        F.sha2(F.col(\"id\").cast(T.StringType()), 256).alias(\"hash\"),\n",
    "        (F.rand(seed=123) * 90).alias(\"sale\"),\n",
    "        (F.col(\"id\") * F.rand(seed=123)).alias(\"exposure\"),\n",
    "    )\n",
    ")\n",
    "df2.display()"
   ]
  },
  {
   "cell_type": "code",
   "execution_count": 0,
   "metadata": {
    "application/vnd.databricks.v1+cell": {
     "cellMetadata": {
      "byteLimit": 2048000,
      "rowLimit": 10000
     },
     "inputWidgets": {},
     "nuid": "86b29c0a-e304-4352-aa69-8c7dc55223de",
     "showTitle": false,
     "tableResultSettingsMap": {},
     "title": ""
    }
   },
   "outputs": [],
   "source": [
    "df2.rdd.getNumPartitions()"
   ]
  },
  {
   "cell_type": "code",
   "execution_count": 0,
   "metadata": {
    "application/vnd.databricks.v1+cell": {
     "cellMetadata": {
      "byteLimit": 2048000,
      "rowLimit": 10000
     },
     "inputWidgets": {},
     "nuid": "c21b3309-1a40-48ab-b2e5-53caf9d77df9",
     "showTitle": false,
     "tableResultSettingsMap": {},
     "title": ""
    }
   },
   "outputs": [],
   "source": [
    "df = (\n",
    "    df1.alias(\"a\")\n",
    "    .join(\n",
    "        df2.alias('b'),\n",
    "        on=[\"id\"],\n",
    "        how=\"inner\",\n",
    "    )\n",
    ").select(\n",
    "    F.col(\"a.id\"),\n",
    "    F.col(\"a.hash\"),\n",
    "    F.col(\"a.sale\"),\n",
    "    F.col(\"a.exposure\")\n",
    ")\n",
    "df.display()"
   ]
  },
  {
   "cell_type": "code",
   "execution_count": 0,
   "metadata": {
    "application/vnd.databricks.v1+cell": {
     "cellMetadata": {
      "byteLimit": 2048000,
      "rowLimit": 10000
     },
     "inputWidgets": {},
     "nuid": "a822a46e-586d-4aad-b423-0bf44f242f36",
     "showTitle": false,
     "tableResultSettingsMap": {},
     "title": ""
    }
   },
   "outputs": [],
   "source": [
    "df1.rdd.getNumPartitions()"
   ]
  },
  {
   "cell_type": "code",
   "execution_count": 0,
   "metadata": {
    "application/vnd.databricks.v1+cell": {
     "cellMetadata": {
      "byteLimit": 2048000,
      "rowLimit": 10000
     },
     "inputWidgets": {},
     "nuid": "e510eb86-cfc0-41c1-9ac3-ba7a29ae0cc0",
     "showTitle": false,
     "tableResultSettingsMap": {},
     "title": ""
    }
   },
   "outputs": [],
   "source": [
    "df1.write.format(\"parquet\").bucketBy(10, \"hash\").sortBy(\"hash\").mode(\"overwrite\").saveAsTable(\"bucket_table1\")\n",
    "df2.write.format(\"parquet\").bucketBy(10, \"hash\").sortBy(\"hash\").mode(\"overwrite\").saveAsTable(\"bucket_table2\")"
   ]
  },
  {
   "cell_type": "code",
   "execution_count": 0,
   "metadata": {
    "application/vnd.databricks.v1+cell": {
     "cellMetadata": {
      "byteLimit": 2048000,
      "rowLimit": 10000
     },
     "inputWidgets": {},
     "nuid": "f27d6f37-e8f4-417d-a6c7-1566666ba990",
     "showTitle": false,
     "tableResultSettingsMap": {},
     "title": ""
    }
   },
   "outputs": [],
   "source": [
    "%fs\n",
    "ls \"/user/hive/warehouse/bucket_table1\""
   ]
  },
  {
   "cell_type": "code",
   "execution_count": 0,
   "metadata": {
    "application/vnd.databricks.v1+cell": {
     "cellMetadata": {
      "byteLimit": 2048000,
      "rowLimit": 10000
     },
     "inputWidgets": {},
     "nuid": "6749c726-8e99-46ec-bf8c-645dc26f6ae2",
     "showTitle": false,
     "tableResultSettingsMap": {},
     "title": ""
    }
   },
   "outputs": [],
   "source": [
    "# join bucketed tables\n",
    "\n",
    "bucketed_df1 = spark.read.format(\"parquet\").load(\"dbfs:/user/hive/warehouse/bucket_table1\")\n",
    "bucketed_df2 = spark.read.format(\"parquet\").load(\"dbfs:/user/hive/warehouse/bucket_table2\")"
   ]
  },
  {
   "cell_type": "code",
   "execution_count": 0,
   "metadata": {
    "application/vnd.databricks.v1+cell": {
     "cellMetadata": {
      "byteLimit": 2048000,
      "rowLimit": 10000
     },
     "inputWidgets": {},
     "nuid": "491d36c3-ea6b-40d0-b9e0-cceb1a1b7fab",
     "showTitle": false,
     "tableResultSettingsMap": {},
     "title": ""
    }
   },
   "outputs": [],
   "source": [
    "bucketed_df1.show()"
   ]
  },
  {
   "cell_type": "code",
   "execution_count": 0,
   "metadata": {
    "application/vnd.databricks.v1+cell": {
     "cellMetadata": {
      "byteLimit": 2048000,
      "rowLimit": 10000
     },
     "inputWidgets": {},
     "nuid": "f2357a24-8b76-4ddb-83ab-e790c1b65a16",
     "showTitle": false,
     "tableResultSettingsMap": {},
     "title": ""
    }
   },
   "outputs": [],
   "source": [
    "bucketed_df1 = bucketed_df1.repartition(10, \"hash\").sortWithinPartitions(\"hash\")\n",
    "bucketed_df2 = bucketed_df2.repartition(10, \"hash\").sortWithinPartitions(\"hash\")"
   ]
  },
  {
   "cell_type": "code",
   "execution_count": 0,
   "metadata": {
    "application/vnd.databricks.v1+cell": {
     "cellMetadata": {
      "byteLimit": 2048000,
      "rowLimit": 10000
     },
     "inputWidgets": {},
     "nuid": "5e3ec446-5619-449e-8f02-20bb11163e84",
     "showTitle": false,
     "tableResultSettingsMap": {},
     "title": ""
    }
   },
   "outputs": [],
   "source": [
    "bucketed_df1.rdd.getNumPartitions()"
   ]
  },
  {
   "cell_type": "code",
   "execution_count": 0,
   "metadata": {
    "application/vnd.databricks.v1+cell": {
     "cellMetadata": {
      "byteLimit": 2048000,
      "rowLimit": 10000
     },
     "inputWidgets": {},
     "nuid": "c02327c8-9dce-4125-a05b-6d5baa83d3b9",
     "showTitle": false,
     "tableResultSettingsMap": {},
     "title": ""
    }
   },
   "outputs": [],
   "source": [
    "bucketed_df2.display()"
   ]
  },
  {
   "cell_type": "code",
   "execution_count": 0,
   "metadata": {
    "application/vnd.databricks.v1+cell": {
     "cellMetadata": {
      "byteLimit": 2048000,
      "rowLimit": 10000
     },
     "inputWidgets": {},
     "nuid": "767ce087-713f-4e2c-bd96-8b7805eed007",
     "showTitle": false,
     "tableResultSettingsMap": {},
     "title": ""
    }
   },
   "outputs": [],
   "source": [
    "# join bucket tables\n",
    "\n",
    "bucket_df = (\n",
    "    bucketed_df1\n",
    "    .join(\n",
    "        bucketed_df2,\n",
    "        on=[\"id\"],\n",
    "        how=\"inner\",\n",
    "    )\n",
    ").select(\n",
    "    bucketed_df1.id,\n",
    "    bucketed_df1.hash,\n",
    "    bucketed_df1.sale,\n",
    "    bucketed_df1.exposure\n",
    ")\n",
    "\n",
    "bucket_df.display()"
   ]
  },
  {
   "cell_type": "code",
   "execution_count": 0,
   "metadata": {
    "application/vnd.databricks.v1+cell": {
     "cellMetadata": {
      "byteLimit": 2048000,
      "rowLimit": 10000
     },
     "inputWidgets": {},
     "nuid": "3b2a4f46-f5f5-44c0-b624-211706f80221",
     "showTitle": false,
     "tableResultSettingsMap": {},
     "title": ""
    }
   },
   "outputs": [],
   "source": [
    "df = (\n",
    "    df1\n",
    "    .join(\n",
    "        bucketed_df2,\n",
    "        on=[\"id\"],\n",
    "        how=\"inner\"\n",
    "    )\n",
    ").display()"
   ]
  }
 ],
 "metadata": {
  "application/vnd.databricks.v1+notebook": {
   "computePreferences": null,
   "dashboards": [],
   "environmentMetadata": {
    "base_environment": "",
    "environment_version": "2"
   },
   "language": "python",
   "notebookMetadata": {
    "mostRecentlyExecutedCommandWithImplicitDF": {
     "commandId": 5616719688344591,
     "dataframes": [
      "_sqldf"
     ]
    },
    "pythonIndentUnit": 4
   },
   "notebookName": "pyspark bucketing",
   "widgets": {}
  },
  "language_info": {
   "name": "python"
  }
 },
 "nbformat": 4,
 "nbformat_minor": 0
}
