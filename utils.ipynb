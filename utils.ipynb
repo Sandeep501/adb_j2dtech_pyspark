{
 "cells": [
  {
   "cell_type": "code",
   "execution_count": 0,
   "metadata": {
    "application/vnd.databricks.v1+cell": {
     "cellMetadata": {
      "byteLimit": 2048000,
      "rowLimit": 10000
     },
     "inputWidgets": {},
     "nuid": "718ea40d-c48c-43f6-9829-c45aff71d84b",
     "showTitle": false,
     "tableResultSettingsMap": {},
     "title": ""
    }
   },
   "outputs": [],
   "source": [
    "from pyspark.sql import functions as F, types as T"
   ]
  },
  {
   "cell_type": "code",
   "execution_count": 0,
   "metadata": {
    "application/vnd.databricks.v1+cell": {
     "cellMetadata": {
      "byteLimit": 2048000,
      "rowLimit": 10000
     },
     "inputWidgets": {},
     "nuid": "eb9e8f84-03c4-4255-8a8b-a20c026e5925",
     "showTitle": false,
     "tableResultSettingsMap": {},
     "title": ""
    }
   },
   "outputs": [],
   "source": [
    "def create_df():\n",
    "    df1 = (\n",
    "        spark\n",
    "        .range(1, 100000, 1, 10)\n",
    "        .select(\n",
    "            F.col(\"id\").cast(T.IntegerType()),\n",
    "            F.sha2(F.col(\"id\").cast(T.StringType()), 256).alias(\"hash\"),\n",
    "            (F.rand(seed=123) * 90).alias(\"sale\"),\n",
    "            (F.col(\"id\") * F.rand(seed=123)).alias(\"exposure\"),\n",
    "        )\n",
    "    )\n",
    "    return df1"
   ]
  }
 ],
 "metadata": {
  "application/vnd.databricks.v1+notebook": {
   "computePreferences": null,
   "dashboards": [],
   "environmentMetadata": {
    "base_environment": "",
    "environment_version": "2"
   },
   "language": "python",
   "notebookMetadata": {
    "pythonIndentUnit": 4
   },
   "notebookName": "utils",
   "widgets": {}
  },
  "language_info": {
   "name": "python"
  }
 },
 "nbformat": 4,
 "nbformat_minor": 0
}
